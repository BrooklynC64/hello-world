{
  "nbformat": 4,
  "nbformat_minor": 0,
  "metadata": {
    "colab": {
      "provenance": [],
      "authorship_tag": "ABX9TyN//6mLsT36xoP8C5im/GFC",
      "include_colab_link": true
    },
    "kernelspec": {
      "name": "python3",
      "display_name": "Python 3"
    },
    "language_info": {
      "name": "python"
    }
  },
  "cells": [
    {
      "cell_type": "markdown",
      "metadata": {
        "id": "view-in-github",
        "colab_type": "text"
      },
      "source": [
        "<a href=\"https://colab.research.google.com/github/BrooklynC64/hello-world/blob/main/Problems1_11_2and1_3.ipynb\" target=\"_parent\"><img src=\"https://colab.research.google.com/assets/colab-badge.svg\" alt=\"Open In Colab\"/></a>"
      ]
    },
    {
      "cell_type": "markdown",
      "source": [
        "Title: [Coding Problems 1.1, 1.2, and 1.3]\n",
        "Author: [Brooklyn Clay]\n",
        "Course: [CPSC 2100]\n",
        "Date: [05/20/2025]"
      ],
      "metadata": {
        "id": "CNtua4RLtFLE"
      }
    },
    {
      "cell_type": "code",
      "execution_count": 1,
      "metadata": {
        "colab": {
          "base_uri": "https://localhost:8080/"
        },
        "id": "uyZywqvsqc_8",
        "outputId": "2cfc28bb-137b-46a4-a1bb-76b14d726668"
      },
      "outputs": [
        {
          "output_type": "stream",
          "name": "stdout",
          "text": [
            "Input:\n",
            "\n",
            "s = 'azcbobobegghakl'\n",
            "Output:\n",
            "\n",
            "Number of vowels: 5\n",
            "\n",
            "Input:\n",
            "\n",
            "s = 'aeiou'\n",
            "Output:\n",
            "\n",
            "Number of vowels: 5\n",
            "\n",
            "Input:\n",
            "\n",
            "s = 'xyz'\n",
            "Output:\n",
            "\n",
            "Number of vowels: 0\n",
            "\n"
          ]
        }
      ],
      "source": [
        "def count_vowels(s):\n",
        "  vowels = 'aeiou'\n",
        "  count = sum(1 for char in s if char in vowels)\n",
        "  return count\n",
        "\n",
        "#List of test strings\n",
        "test_strings = [\n",
        "    'azcbobobegghakl',\n",
        "    'aeiou',\n",
        "    'xyz'\n",
        "]\n",
        "\n",
        "#Loop through each string and print vowel count\n",
        "for s in test_strings:\n",
        "  print(f\"Input:\\n\\ns = '{s}'\")\n",
        "  print(f\"Output:\\n\\nNumber of vowels: {count_vowels(s)}\\n\")"
      ]
    },
    {
      "cell_type": "code",
      "source": [
        "def count_bob_substrings(s):\n",
        "  target = 'bob'\n",
        "  count = 0\n",
        "  for i in range(len(s) - len(target) + 1):\n",
        "    if s [i:i+3] == target:\n",
        "      count += 1\n",
        "  return count\n",
        "\n",
        "#List of test strings\n",
        "test_strings = [\n",
        "    'azcbobobegghakl',\n",
        "    'bobobob',\n",
        "    'bbybb'\n",
        "]\n",
        "\n",
        "#Loop through each string and print 'bob' count\n",
        "for s in test_strings:\n",
        "  print(f\"Input:\\n\\ns = '{s}'\")\n",
        "  print(f\"Output:\\n\\nNumber of times bob occurs is: {count_bob_substrings(s)}\\n\")"
      ],
      "metadata": {
        "colab": {
          "base_uri": "https://localhost:8080/"
        },
        "id": "R-GH6mEBV66r",
        "outputId": "24b782a6-d899-4c5b-c706-52822d2f64af"
      },
      "execution_count": 1,
      "outputs": [
        {
          "output_type": "stream",
          "name": "stdout",
          "text": [
            "Input:\n",
            "\n",
            "s = 'azcbobobegghakl'\n",
            "Output:\n",
            "\n",
            "Number of times bob occurs is: 2\n",
            "\n",
            "Input:\n",
            "\n",
            "s = 'bobobob'\n",
            "Output:\n",
            "\n",
            "Number of times bob occurs is: 3\n",
            "\n",
            "Input:\n",
            "\n",
            "s = 'bbybb'\n",
            "Output:\n",
            "\n",
            "Number of times bob occurs is: 0\n",
            "\n"
          ]
        }
      ]
    },
    {
      "cell_type": "code",
      "source": [
        "def longest_alpha_substring(s):\n",
        "    longest = current = s[0]\n",
        "\n",
        "    for i in range(1, len(s)):\n",
        "        if s[i] >= s[i - 1]:\n",
        "            current += s[i]\n",
        "        else:\n",
        "            if len(current) > len(longest):\n",
        "                longest = current\n",
        "            current = s[i]\n",
        "\n",
        "    if len(current) > len(longest):\n",
        "        longest = current\n",
        "\n",
        "    return longest\n",
        "\n",
        "#List of test strings\n",
        "test_strings = [\n",
        "    'azcbobobegghakl',\n",
        "    'abcbcd',\n",
        "    'zyxwvutsr',\n",
        "    'abcdef'\n",
        "]\n",
        "\n",
        "#Loop through each string and print the result\n",
        "for s in test_strings:\n",
        "  print(f\"Input:\\n\\ns = '{s}'\")\n",
        "  print(f\"Output:\\n\\nLongest substring in alphabetical order is: {longest_alpha_substring(s)}\\n\")"
      ],
      "metadata": {
        "colab": {
          "base_uri": "https://localhost:8080/"
        },
        "id": "OmNpzk6jV7pb",
        "outputId": "4227c712-a23f-4456-d458-9fd48de8d95f"
      },
      "execution_count": 3,
      "outputs": [
        {
          "output_type": "stream",
          "name": "stdout",
          "text": [
            "Input:\n",
            "\n",
            "s = 'azcbobobegghakl'\n",
            "Output:\n",
            "\n",
            "Longest substring in alphabetical order is: beggh\n",
            "\n",
            "Input:\n",
            "\n",
            "s = 'abcbcd'\n",
            "Output:\n",
            "\n",
            "Longest substring in alphabetical order is: abc\n",
            "\n",
            "Input:\n",
            "\n",
            "s = 'zyxwvutsr'\n",
            "Output:\n",
            "\n",
            "Longest substring in alphabetical order is: z\n",
            "\n",
            "Input:\n",
            "\n",
            "s = 'abcdef'\n",
            "Output:\n",
            "\n",
            "Longest substring in alphabetical order is: abcdef\n",
            "\n"
          ]
        }
      ]
    }
  ]
}